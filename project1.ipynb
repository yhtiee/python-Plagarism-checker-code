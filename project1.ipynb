{
 "cells": [
  {
   "cell_type": "code",
   "execution_count": 6,
   "metadata": {},
   "outputs": [],
   "source": [
    "all_quests =  {} "
   ]
  },
  {
   "cell_type": "code",
   "execution_count": 7,
   "metadata": {},
   "outputs": [
    {
     "name": "stdout",
     "output_type": "stream",
     "text": [
      "Querying for question\n",
      "what is a polygon\n",
      "you have failed the question try again\n"
     ]
    },
    {
     "data": {
      "text/plain": [
       "0.0"
      ]
     },
     "execution_count": 7,
     "metadata": {},
     "output_type": "execute_result"
    }
   ],
   "source": [
    "import time\n",
    "\n",
    "def create_questions():\n",
    "    subject = input(\"Subject name\")\n",
    "    question = input(\"Question Please\")\n",
    "    answer = input(\"Answer to question\")\n",
    "    \n",
    "    with open(f\"{subject}.txt\", mode='w', encoding='utf-8') as file:    \n",
    "        all_quests[subject] = question\n",
    "        file.write(answer)\n",
    "    \n",
    "    return f'Question for {subject} submitted'\n",
    "def writeAnswer():\n",
    "    subject = input(\"Subject name\")\n",
    "    question = all_quests.get(subject)\n",
    "    if not question:\n",
    "        return f'No question for {subject} yet'\n",
    "    print(\"Querying for question\")\n",
    "    time.sleep(1)\n",
    "    print(question)\n",
    "    answer = input(question)\n",
    "    with open(f\"answers.txt\", mode='w', encoding='utf-8') as file:\n",
    "        all_quests[subject] = question\n",
    "        file.write(answer)\n",
    "\n",
    "    filea = open('./answers.txt','r')\n",
    "    data_a = filea.read()\n",
    "    \n",
    "    fileb = open(f'{subject}.txt', 'r')\n",
    "    data_b = fileb.read()\n",
    "    \n",
    "    if compare_files(data_a, data_b) > 50:\n",
    "        print(\"You have passed the answer\")\n",
    "    else:\n",
    "        print(\"you have failed the question try again\")\n",
    "    return compare_files(data_a, data_b)\n",
    "\n",
    "create_questions()    \n",
    "writeAnswer()"
   ]
  },
  {
   "cell_type": "code",
   "execution_count": 5,
   "metadata": {},
   "outputs": [
    {
     "data": {
      "text/plain": [
       "49.999999999999986"
      ]
     },
     "execution_count": 5,
     "metadata": {},
     "output_type": "execute_result"
    }
   ],
   "source": [
    "word = \" Break words down.\" \n",
    "def break_words(word : str) -> list:\n",
    "    \"\"\"\n",
    "    Removes punctuation marks, converts all characters to lower case, and returns a list of all words in word \n",
    "    e.g break_words('Break words down.') -> ['break', 'words', 'down'] \n",
    "    \"\"\"\n",
    "    # Your code here\n",
    "    puntuation = '''!()-[]{}:;'\"\\,<>./?@#%$&^*_'''\n",
    "    empty_string = \" \"\n",
    "    new_word = word.lower()\n",
    "    for x in puntuation:\n",
    "        new_word = new_word.replace(x, empty_string)\n",
    "    words = new_word.split()\n",
    "    return words\n",
    "    \n",
    "\n",
    "def count_words(words : list) -> dict:\n",
    "    \"\"\"\n",
    "    counts the occurence of each word in a list. Returns a dictionary of the word count. \n",
    "    e.g count_words(['break', 'words', 'down']) -> {'break': 1, 'words': 1, 'down': 1}\n",
    "    \"\"\"\n",
    "    # Your code here\n",
    "    counted = {}\n",
    "    \n",
    "    for item in words:\n",
    "        if item in counted:\n",
    "                counted[item] += 1\n",
    "        else:\n",
    "            counted[item] = 1\n",
    "    return counted\n",
    "\n",
    "\n",
    "def dot_product(doc1 : dict, doc2 : dict) -> int:\n",
    "    '''\n",
    "    Multiplies the occurence of each key (word) in doc1 by the occurence of the key (word) in doc2 or 0 if word not in doc2.\n",
    "    Returns the sum of the multiples\n",
    "    e.g dot_product({\"the\" : 1, \"cat\" : 1, \"dog\" : 1}, {\"the\" : 1,  \"cat\" : 1}) -> 2 why?\n",
    "    the = 1 * 1 = 1\n",
    "    cat = 1 * 1 = 1\n",
    "    dog = 1 * 0 = 0\n",
    "    ---------------\n",
    "          Total = 2\n",
    "    ---------------\n",
    "    '''\n",
    "    \n",
    "    # Your code here\n",
    "    sum = 0\n",
    "    for key, value in doc1.items():\n",
    "        if key in doc2:\n",
    "            mul_value = value * doc2[key]\n",
    "            sum = sum + mul_value\n",
    "\n",
    "    return sum\n",
    "    \n",
    "    \n",
    "def compare_files(filea, fileb):\n",
    "    \"\"\"Compares two files filea and fileb using the formular:\n",
    "    doc_dist = numerator / demominator\n",
    "    where\n",
    "    numerator = dot_product(count_words(break_words(filea)), count_words(break_words(fileb)))\n",
    "    denominator = sqrt(dot_product(count_words(break_words(filea)), count_words(break_words(filea)))) * sqrt(dot_product(count_words(break_words(fileb)), count_words(break_words(fileb))))\n",
    "    \n",
    "    Returns a number between 0 and 1 (Mostly decimal numbers)\n",
    "    e.g compare_files(\"The cat is on the mat.\", \"The cat is on the mat.\") -> 1\n",
    "    e.g compare_files(\"The dog is on the mat.\", \"The cat is on the mat.\") -> 0.8\n",
    "    \"\"\"\n",
    "    # Your code here\n",
    "    import math\n",
    "    numerator = dot_product(count_words(break_words(filea)), count_words(break_words(fileb)))\n",
    "    denominator = math.sqrt(dot_product(count_words(break_words(filea)), count_words(break_words(filea)))) * math.sqrt(dot_product(count_words(break_words(fileb)), count_words(break_words(fileb))))\n",
    "    doc_dist = (numerator / denominator) * 100 \n",
    "    return doc_dist\n",
    "    \n",
    "\n",
    "compare_files(\"The dog.\", \"The cat.\")\n",
    "    "
   ]
  },
  {
   "cell_type": "code",
   "execution_count": 1,
   "metadata": {},
   "outputs": [],
   "source": [
    "def check_plagarized(doc1: str, doc2:str) -> bool:\n",
    "    check =  compare_files(doc1, doc2)\n",
    "    if check >= 0.25:\n",
    "        return (\"The document is plagarized\")\n",
    "    else:\n",
    "        return (\"the document is not plagarized\")\n"
   ]
  },
  {
   "cell_type": "code",
   "execution_count": 15,
   "metadata": {},
   "outputs": [],
   "source": [
    "file = open(\"./newfile.txt\", mode = \"r\")\n",
    "newfile = file.read()\n",
    "#newfile\n",
    "\n",
    "file2 = open(\"./readme.txt\", mode = \"r\")\n",
    "newfile2 = file2.read()"
   ]
  },
  {
   "cell_type": "code",
   "execution_count": 17,
   "metadata": {},
   "outputs": [
    {
     "data": {
      "text/plain": [
       "'the document is not plagarized'"
      ]
     },
     "execution_count": 17,
     "metadata": {},
     "output_type": "execute_result"
    }
   ],
   "source": [
    "compare_files(newfile, newfile2)\n",
    "check_plagarized(newfile, newfile2)\n"
   ]
  },
  {
   "cell_type": "code",
   "execution_count": null,
   "metadata": {},
   "outputs": [],
   "source": []
  }
 ],
 "metadata": {
  "interpreter": {
   "hash": "cfcfbbd76e88e95dc35e2ca9edf0c1e882d0553cc29bc4cac8c0f4eabeb0ecb9"
  },
  "kernelspec": {
   "display_name": "Python 3.10.2 64-bit",
   "language": "python",
   "name": "python3"
  },
  "language_info": {
   "codemirror_mode": {
    "name": "ipython",
    "version": 3
   },
   "file_extension": ".py",
   "mimetype": "text/x-python",
   "name": "python",
   "nbconvert_exporter": "python",
   "pygments_lexer": "ipython3",
   "version": "3.10.3"
  },
  "orig_nbformat": 4
 },
 "nbformat": 4,
 "nbformat_minor": 2
}
